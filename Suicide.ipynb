{
 "cells": [
  {
   "cell_type": "markdown",
   "id": "d9129e08",
   "metadata": {},
   "source": [
    "# SUICIDE "
   ]
  },
  {
   "attachments": {
    "gettyimages-926235560-612x612.jpg": {
     "image/jpeg": "[encoded data removed]"
    }
   },
   "cell_type": "markdown",
   "id": "ac88bca1",
   "metadata": {},
   "source": [
    "![gettyimages-926235560-612x612.jpg](attachment:gettyimages-926235560-612x612.jpg)"
   ]
  },
  {
   "cell_type": "markdown",
   "id": "698ecd50",
   "metadata": {},
   "source": [
    "# Importing Libraries"
   ]
  },
  {
   "cell_type": "code",
   "execution_count": 2,
   "id": "09f6707d",
   "metadata": {},
   "outputs": [],
   "source": [
    "import numpy as np\n",
    "import pandas as pd\n",
    "from scipy import stats\n",
    "import matplotlib.pyplot as plt\n",
    "from pandas.plotting import scatter_matrix\n",
    "import  seaborn as sns"
   ]
  },
  {
   "cell_type": "markdown",
   "id": "7993c73c",
   "metadata": {},
   "source": [
    "# About"
   ]
  },
  {
   "cell_type": "markdown",
   "id": "625f8013",
   "metadata": {},
   "source": [
    "### Introduction"
   ]
  },
  {
   "cell_type": "markdown",
   "id": "6d7affa2",
   "metadata": {},
   "source": [
    "* Every year, close to 800,000 people take their own lives, and there are many more people who attempt suicide. Every suicide is a tragedy that affects families, communities, and entire countries and has long-lasting effects on the people left behind. Suicide is a serious public health problem. However, suicides are preventable with timely, evidence-based, and often low-cost interventions. A comprehensive multi-sectoral suicide prevention strategy is needed for national responses to be effective.\n",
    "\n",
    "* Suicide is a major concern across the world. And people who say that suicides are committed by weak people are pretty much wrong. Only the person who is committing suicide knows what he or she is going through.\n"
   ]
  },
  {
   "cell_type": "code",
   "execution_count": 3,
   "id": "c9ce7fde",
   "metadata": {},
   "outputs": [
    {
     "data": {
      "text/plain": [
       "(43776, 6)"
      ]
     },
     "execution_count": 3,
     "metadata": {},
     "output_type": "execute_result"
    }
   ],
   "source": [
    "go=pd.read_csv('who_suicide_statistics.csv')\n",
    "go.shape"
   ]
  },
  {
   "cell_type": "code",
   "execution_count": 22,
   "id": "6a9b6fd6",
   "metadata": {},
   "outputs": [
    {
     "data": {
      "text/html": [
       "<div>\n",
       "<style scoped>\n",
       "    .dataframe tbody tr th:only-of-type {\n",
       "        vertical-align: middle;\n",
       "    }\n",
       "\n",
       "    .dataframe tbody tr th {\n",
       "        vertical-align: top;\n",
       "    }\n",
       "\n",
       "    .dataframe thead th {\n",
       "        text-align: right;\n",
       "    }\n",
       "</style>\n",
       "<table border=\"1\" class=\"dataframe\">\n",
       "  <thead>\n",
       "    <tr style=\"text-align: right;\">\n",
       "      <th></th>\n",
       "      <th>country</th>\n",
       "      <th>year</th>\n",
       "      <th>sex</th>\n",
       "      <th>age</th>\n",
       "      <th>suicides_no</th>\n",
       "      <th>population</th>\n",
       "    </tr>\n",
       "  </thead>\n",
       "  <tbody>\n",
       "    <tr>\n",
       "      <th>0</th>\n",
       "      <td>Albania</td>\n",
       "      <td>1985</td>\n",
       "      <td>female</td>\n",
       "      <td>15-24 years</td>\n",
       "      <td>NaN</td>\n",
       "      <td>277900.0</td>\n",
       "    </tr>\n",
       "    <tr>\n",
       "      <th>1</th>\n",
       "      <td>Albania</td>\n",
       "      <td>1985</td>\n",
       "      <td>female</td>\n",
       "      <td>25-34 years</td>\n",
       "      <td>NaN</td>\n",
       "      <td>246800.0</td>\n",
       "    </tr>\n",
       "    <tr>\n",
       "      <th>2</th>\n",
       "      <td>Albania</td>\n",
       "      <td>1985</td>\n",
       "      <td>female</td>\n",
       "      <td>35-54 years</td>\n",
       "      <td>NaN</td>\n",
       "      <td>267500.0</td>\n",
       "    </tr>\n",
       "    <tr>\n",
       "      <th>3</th>\n",
       "      <td>Albania</td>\n",
       "      <td>1985</td>\n",
       "      <td>female</td>\n",
       "      <td>5-14 years</td>\n",
       "      <td>NaN</td>\n",
       "      <td>298300.0</td>\n",
       "    </tr>\n",
       "    <tr>\n",
       "      <th>4</th>\n",
       "      <td>Albania</td>\n",
       "      <td>1985</td>\n",
       "      <td>female</td>\n",
       "      <td>55-74 years</td>\n",
       "      <td>NaN</td>\n",
       "      <td>138700.0</td>\n",
       "    </tr>\n",
       "  </tbody>\n",
       "</table>\n",
       "</div>"
      ],
      "text/plain": [
       "   country  year     sex          age  suicides_no  population\n",
       "0  Albania  1985  female  15-24 years          NaN    277900.0\n",
       "1  Albania  1985  female  25-34 years          NaN    246800.0\n",
       "2  Albania  1985  female  35-54 years          NaN    267500.0\n",
       "3  Albania  1985  female   5-14 years          NaN    298300.0\n",
       "4  Albania  1985  female  55-74 years          NaN    138700.0"
      ]
     },
     "execution_count": 22,
     "metadata": {},
     "output_type": "execute_result"
    }
   ],
   "source": [
    "go.head(5)"
   ]
  },
  {
   "cell_type": "code",
   "execution_count": 4,
   "id": "a3d529b5",
   "metadata": {},
   "outputs": [
    {
     "data": {
      "text/html": [
       "<div>\n",
       "<style scoped>\n",
       "    .dataframe tbody tr th:only-of-type {\n",
       "        vertical-align: middle;\n",
       "    }\n",
       "\n",
       "    .dataframe tbody tr th {\n",
       "        vertical-align: top;\n",
       "    }\n",
       "\n",
       "    .dataframe thead th {\n",
       "        text-align: right;\n",
       "    }\n",
       "</style>\n",
       "<table border=\"1\" class=\"dataframe\">\n",
       "  <thead>\n",
       "    <tr style=\"text-align: right;\">\n",
       "      <th></th>\n",
       "      <th>country</th>\n",
       "      <th>year</th>\n",
       "      <th>sex</th>\n",
       "      <th>age</th>\n",
       "      <th>suicides_no</th>\n",
       "      <th>population</th>\n",
       "    </tr>\n",
       "  </thead>\n",
       "  <tbody>\n",
       "    <tr>\n",
       "      <th>32177</th>\n",
       "      <td>Reunion</td>\n",
       "      <td>2003</td>\n",
       "      <td>female</td>\n",
       "      <td>75+ years</td>\n",
       "      <td>0.0</td>\n",
       "      <td>13877.0</td>\n",
       "    </tr>\n",
       "    <tr>\n",
       "      <th>8389</th>\n",
       "      <td>Cayman Islands</td>\n",
       "      <td>2005</td>\n",
       "      <td>female</td>\n",
       "      <td>25-34 years</td>\n",
       "      <td>0.0</td>\n",
       "      <td>NaN</td>\n",
       "    </tr>\n",
       "    <tr>\n",
       "      <th>4431</th>\n",
       "      <td>Belarus</td>\n",
       "      <td>1990</td>\n",
       "      <td>female</td>\n",
       "      <td>5-14 years</td>\n",
       "      <td>3.0</td>\n",
       "      <td>763600.0</td>\n",
       "    </tr>\n",
       "    <tr>\n",
       "      <th>27985</th>\n",
       "      <td>Norway</td>\n",
       "      <td>1992</td>\n",
       "      <td>female</td>\n",
       "      <td>25-34 years</td>\n",
       "      <td>21.0</td>\n",
       "      <td>316800.0</td>\n",
       "    </tr>\n",
       "    <tr>\n",
       "      <th>27674</th>\n",
       "      <td>Nicaragua</td>\n",
       "      <td>2003</td>\n",
       "      <td>female</td>\n",
       "      <td>35-54 years</td>\n",
       "      <td>16.0</td>\n",
       "      <td>NaN</td>\n",
       "    </tr>\n",
       "    <tr>\n",
       "      <th>3873</th>\n",
       "      <td>Bahrain</td>\n",
       "      <td>2007</td>\n",
       "      <td>male</td>\n",
       "      <td>5-14 years</td>\n",
       "      <td>0.0</td>\n",
       "      <td>74222.0</td>\n",
       "    </tr>\n",
       "    <tr>\n",
       "      <th>6300</th>\n",
       "      <td>Brazil</td>\n",
       "      <td>1987</td>\n",
       "      <td>female</td>\n",
       "      <td>15-24 years</td>\n",
       "      <td>291.0</td>\n",
       "      <td>14145640.0</td>\n",
       "    </tr>\n",
       "    <tr>\n",
       "      <th>32993</th>\n",
       "      <td>Russian Federation</td>\n",
       "      <td>1983</td>\n",
       "      <td>female</td>\n",
       "      <td>75+ years</td>\n",
       "      <td>NaN</td>\n",
       "      <td>3940800.0</td>\n",
       "    </tr>\n",
       "    <tr>\n",
       "      <th>37273</th>\n",
       "      <td>Suriname</td>\n",
       "      <td>1982</td>\n",
       "      <td>female</td>\n",
       "      <td>25-34 years</td>\n",
       "      <td>4.0</td>\n",
       "      <td>15200.0</td>\n",
       "    </tr>\n",
       "    <tr>\n",
       "      <th>6969</th>\n",
       "      <td>British Virgin Islands</td>\n",
       "      <td>2009</td>\n",
       "      <td>male</td>\n",
       "      <td>5-14 years</td>\n",
       "      <td>0.0</td>\n",
       "      <td>NaN</td>\n",
       "    </tr>\n",
       "  </tbody>\n",
       "</table>\n",
       "</div>"
      ],
      "text/plain": [
       "                      country  year     sex          age  suicides_no  \\\n",
       "32177                 Reunion  2003  female    75+ years          0.0   \n",
       "8389           Cayman Islands  2005  female  25-34 years          0.0   \n",
       "4431                  Belarus  1990  female   5-14 years          3.0   \n",
       "27985                  Norway  1992  female  25-34 years         21.0   \n",
       "27674               Nicaragua  2003  female  35-54 years         16.0   \n",
       "3873                  Bahrain  2007    male   5-14 years          0.0   \n",
       "6300                   Brazil  1987  female  15-24 years        291.0   \n",
       "32993      Russian Federation  1983  female    75+ years          NaN   \n",
       "37273                Suriname  1982  female  25-34 years          4.0   \n",
       "6969   British Virgin Islands  2009    male   5-14 years          0.0   \n",
       "\n",
       "       population  \n",
       "32177     13877.0  \n",
       "8389          NaN  \n",
       "4431     763600.0  \n",
       "27985    316800.0  \n",
       "27674         NaN  \n",
       "3873      74222.0  \n",
       "6300   14145640.0  \n",
       "32993   3940800.0  \n",
       "37273     15200.0  \n",
       "6969          NaN  "
      ]
     },
     "execution_count": 4,
     "metadata": {},
     "output_type": "execute_result"
    }
   ],
   "source": [
    "go.sample(10)"
   ]
  },
  {
   "cell_type": "code",
   "execution_count": 5,
   "id": "c75d606c",
   "metadata": {},
   "outputs": [
    {
     "data": {
      "text/html": [
       "<div>\n",
       "<style scoped>\n",
       "    .dataframe tbody tr th:only-of-type {\n",
       "        vertical-align: middle;\n",
       "    }\n",
       "\n",
       "    .dataframe tbody tr th {\n",
       "        vertical-align: top;\n",
       "    }\n",
       "\n",
       "    .dataframe thead th {\n",
       "        text-align: right;\n",
       "    }\n",
       "</style>\n",
       "<table border=\"1\" class=\"dataframe\">\n",
       "  <thead>\n",
       "    <tr style=\"text-align: right;\">\n",
       "      <th></th>\n",
       "      <th>country</th>\n",
       "      <th>year</th>\n",
       "      <th>sex</th>\n",
       "      <th>age</th>\n",
       "      <th>suicides_no</th>\n",
       "      <th>population</th>\n",
       "    </tr>\n",
       "  </thead>\n",
       "  <tbody>\n",
       "    <tr>\n",
       "      <th>43771</th>\n",
       "      <td>Zimbabwe</td>\n",
       "      <td>1990</td>\n",
       "      <td>male</td>\n",
       "      <td>25-34 years</td>\n",
       "      <td>150.0</td>\n",
       "      <td>NaN</td>\n",
       "    </tr>\n",
       "    <tr>\n",
       "      <th>43772</th>\n",
       "      <td>Zimbabwe</td>\n",
       "      <td>1990</td>\n",
       "      <td>male</td>\n",
       "      <td>35-54 years</td>\n",
       "      <td>132.0</td>\n",
       "      <td>NaN</td>\n",
       "    </tr>\n",
       "    <tr>\n",
       "      <th>43773</th>\n",
       "      <td>Zimbabwe</td>\n",
       "      <td>1990</td>\n",
       "      <td>male</td>\n",
       "      <td>5-14 years</td>\n",
       "      <td>6.0</td>\n",
       "      <td>NaN</td>\n",
       "    </tr>\n",
       "    <tr>\n",
       "      <th>43774</th>\n",
       "      <td>Zimbabwe</td>\n",
       "      <td>1990</td>\n",
       "      <td>male</td>\n",
       "      <td>55-74 years</td>\n",
       "      <td>74.0</td>\n",
       "      <td>NaN</td>\n",
       "    </tr>\n",
       "    <tr>\n",
       "      <th>43775</th>\n",
       "      <td>Zimbabwe</td>\n",
       "      <td>1990</td>\n",
       "      <td>male</td>\n",
       "      <td>75+ years</td>\n",
       "      <td>13.0</td>\n",
       "      <td>NaN</td>\n",
       "    </tr>\n",
       "  </tbody>\n",
       "</table>\n",
       "</div>"
      ],
      "text/plain": [
       "        country  year   sex          age  suicides_no  population\n",
       "43771  Zimbabwe  1990  male  25-34 years        150.0         NaN\n",
       "43772  Zimbabwe  1990  male  35-54 years        132.0         NaN\n",
       "43773  Zimbabwe  1990  male   5-14 years          6.0         NaN\n",
       "43774  Zimbabwe  1990  male  55-74 years         74.0         NaN\n",
       "43775  Zimbabwe  1990  male    75+ years         13.0         NaN"
      ]
     },
     "execution_count": 5,
     "metadata": {},
     "output_type": "execute_result"
    }
   ],
   "source": [
    "go.tail(5)"
   ]
  },
  {
   "cell_type": "code",
   "execution_count": 6,
   "id": "836060cf",
   "metadata": {},
   "outputs": [
    {
     "data": {
      "text/plain": [
       "Index(['country', 'year', 'sex', 'age', 'suicides_no', 'population'], dtype='object')"
      ]
     },
     "execution_count": 6,
     "metadata": {},
     "output_type": "execute_result"
    }
   ],
   "source": [
    "go.columns"
   ]
  },
  {
   "cell_type": "code",
   "execution_count": 7,
   "id": "3a0cba0e",
   "metadata": {},
   "outputs": [
    {
     "name": "stdout",
     "output_type": "stream",
     "text": [
      "<class 'pandas.core.frame.DataFrame'>\n",
      "RangeIndex: 43776 entries, 0 to 43775\n",
      "Data columns (total 6 columns):\n",
      " #   Column       Non-Null Count  Dtype  \n",
      "---  ------       --------------  -----  \n",
      " 0   country      43776 non-null  object \n",
      " 1   year         43776 non-null  int64  \n",
      " 2   sex          43776 non-null  object \n",
      " 3   age          43776 non-null  object \n",
      " 4   suicides_no  41520 non-null  float64\n",
      " 5   population   38316 non-null  float64\n",
      "dtypes: float64(2), int64(1), object(3)\n",
      "memory usage: 2.0+ MB\n"
     ]
    }
   ],
   "source": [
    "\n",
    "go.info()"
   ]
  },
  {
   "cell_type": "code",
   "execution_count": 8,
   "id": "6d2b4ff6",
   "metadata": {},
   "outputs": [
    {
     "data": {
      "text/html": [
       "<div>\n",
       "<style scoped>\n",
       "    .dataframe tbody tr th:only-of-type {\n",
       "        vertical-align: middle;\n",
       "    }\n",
       "\n",
       "    .dataframe tbody tr th {\n",
       "        vertical-align: top;\n",
       "    }\n",
       "\n",
       "    .dataframe thead th {\n",
       "        text-align: right;\n",
       "    }\n",
       "</style>\n",
       "<table border=\"1\" class=\"dataframe\">\n",
       "  <thead>\n",
       "    <tr style=\"text-align: right;\">\n",
       "      <th></th>\n",
       "      <th>year</th>\n",
       "      <th>suicides_no</th>\n",
       "      <th>population</th>\n",
       "    </tr>\n",
       "  </thead>\n",
       "  <tbody>\n",
       "    <tr>\n",
       "      <th>count</th>\n",
       "      <td>43776.000000</td>\n",
       "      <td>41520.000000</td>\n",
       "      <td>3.831600e+04</td>\n",
       "    </tr>\n",
       "    <tr>\n",
       "      <th>mean</th>\n",
       "      <td>1998.502467</td>\n",
       "      <td>193.315390</td>\n",
       "      <td>1.664091e+06</td>\n",
       "    </tr>\n",
       "    <tr>\n",
       "      <th>std</th>\n",
       "      <td>10.338711</td>\n",
       "      <td>800.589926</td>\n",
       "      <td>3.647231e+06</td>\n",
       "    </tr>\n",
       "    <tr>\n",
       "      <th>min</th>\n",
       "      <td>1979.000000</td>\n",
       "      <td>0.000000</td>\n",
       "      <td>2.590000e+02</td>\n",
       "    </tr>\n",
       "    <tr>\n",
       "      <th>25%</th>\n",
       "      <td>1990.000000</td>\n",
       "      <td>1.000000</td>\n",
       "      <td>8.511275e+04</td>\n",
       "    </tr>\n",
       "    <tr>\n",
       "      <th>50%</th>\n",
       "      <td>1999.000000</td>\n",
       "      <td>14.000000</td>\n",
       "      <td>3.806550e+05</td>\n",
       "    </tr>\n",
       "    <tr>\n",
       "      <th>75%</th>\n",
       "      <td>2007.000000</td>\n",
       "      <td>91.000000</td>\n",
       "      <td>1.305698e+06</td>\n",
       "    </tr>\n",
       "    <tr>\n",
       "      <th>max</th>\n",
       "      <td>2016.000000</td>\n",
       "      <td>22338.000000</td>\n",
       "      <td>4.380521e+07</td>\n",
       "    </tr>\n",
       "  </tbody>\n",
       "</table>\n",
       "</div>"
      ],
      "text/plain": [
       "               year   suicides_no    population\n",
       "count  43776.000000  41520.000000  3.831600e+04\n",
       "mean    1998.502467    193.315390  1.664091e+06\n",
       "std       10.338711    800.589926  3.647231e+06\n",
       "min     1979.000000      0.000000  2.590000e+02\n",
       "25%     1990.000000      1.000000  8.511275e+04\n",
       "50%     1999.000000     14.000000  3.806550e+05\n",
       "75%     2007.000000     91.000000  1.305698e+06\n",
       "max     2016.000000  22338.000000  4.380521e+07"
      ]
     },
     "execution_count": 8,
     "metadata": {},
     "output_type": "execute_result"
    }
   ],
   "source": [
    "go.describe()"
   ]
  },
  {
   "cell_type": "code",
   "execution_count": 9,
   "id": "64cb421b",
   "metadata": {},
   "outputs": [
    {
     "data": {
      "text/plain": [
       "country           0\n",
       "year              0\n",
       "sex               0\n",
       "age               0\n",
       "suicides_no    2256\n",
       "population     5460\n",
       "dtype: int64"
      ]
     },
     "execution_count": 9,
     "metadata": {},
     "output_type": "execute_result"
    }
   ],
   "source": [
    "go.isnull().sum()"
   ]
  },
  {
   "cell_type": "code",
   "execution_count": 10,
   "id": "7895e544",
   "metadata": {},
   "outputs": [
    {
     "name": "stdout",
     "output_type": "stream",
     "text": [
      "country         object\n",
      "year             int64\n",
      "sex             object\n",
      "age             object\n",
      "suicides_no    float64\n",
      "population     float64\n",
      "dtype: object\n"
     ]
    }
   ],
   "source": [
    "print(go.dtypes)"
   ]
  },
  {
   "cell_type": "code",
   "execution_count": 11,
   "id": "b09d942d",
   "metadata": {},
   "outputs": [],
   "source": [
    "go[\"suicides_no\"]=go[\"suicides_no\"].fillna(0)"
   ]
  },
  {
   "cell_type": "code",
   "execution_count": 12,
   "id": "75520c69",
   "metadata": {},
   "outputs": [
    {
     "data": {
      "text/plain": [
       "array(['15-24 years', '25-34 years', '35-54 years', '5-14 years',\n",
       "       '55-74 years', '75+ years'], dtype=object)"
      ]
     },
     "execution_count": 12,
     "metadata": {},
     "output_type": "execute_result"
    }
   ],
   "source": [
    "go['age'].unique()"
   ]
  },
  {
   "cell_type": "markdown",
   "id": "0387ed70",
   "metadata": {},
   "source": [
    "# Data Clean After"
   ]
  },
  {
   "cell_type": "markdown",
   "id": "dab556b2",
   "metadata": {},
   "source": [
    "# 2)DATA VISUALIZATION"
   ]
  },
  {
   "cell_type": "markdown",
   "id": "66c5233e",
   "metadata": {},
   "source": [
    " # 20 Country with most suicide case all the time"
   ]
  },
  {
   "cell_type": "code",
   "execution_count": 13,
   "id": "08756e9a",
   "metadata": {},
   "outputs": [
    {
     "data": {
      "text/plain": [
       "country\n",
       "Russian Federation          1500992.0\n",
       "United States of America    1201401.0\n",
       "Japan                        937614.0\n",
       "France                       395500.0\n",
       "Ukraine                      365170.0\n",
       "Germany                      291262.0\n",
       "Republic of Korea            261730.0\n",
       "Brazil                       250824.0\n",
       "Poland                       172562.0\n",
       "United Kingdom               166314.0\n",
       "Italy                        157074.0\n",
       "Hungary                      130018.0\n",
       "Thailand                     129899.0\n",
       "Canada                       128382.0\n",
       "Kazakhstan                   123151.0\n",
       "Mexico                       117479.0\n",
       "Spain                        110097.0\n",
       "Argentina                     93862.0\n",
       "Sri Lanka                     80747.0\n",
       "Australia                     80279.0\n",
       "Name: suicides_no, dtype: float64"
      ]
     },
     "execution_count": 13,
     "metadata": {},
     "output_type": "execute_result"
    }
   ],
   "source": [
    "su_country = go.groupby('country').suicides_no.sum().sort_values(ascending=False).head(20)\n",
    "su_country"
   ]
  },
  {
   "cell_type": "markdown",
   "id": "848061c0",
   "metadata": {},
   "source": [
    "* In the above data, suicide cases are high in the Russian Federation."
   ]
  },
  {
   "cell_type": "markdown",
   "id": "1f5610e4",
   "metadata": {},
   "source": [
    "# Suicide case over the world throughout the years (1979 - 2016)"
   ]
  },
  {
   "cell_type": "code",
   "execution_count": 4,
   "id": "ee57df2c",
   "metadata": {},
   "outputs": [],
   "source": [
    "suicide_per_year = go.groupby('year').suicides_no.sum()"
   ]
  },
  {
   "cell_type": "markdown",
   "id": "93feba9e",
   "metadata": {},
   "source": [
    "# Plot Suicides per year Data"
   ]
  },
  {
   "cell_type": "code",
   "execution_count": 15,
   "id": "e0d05ac7",
   "metadata": {},
   "outputs": [
    {
     "name": "stderr",
     "output_type": "stream",
     "text": [
      "/home/rkmveri/.local/lib/python3.8/site-packages/seaborn/_decorators.py:36: FutureWarning: Pass the following variables as keyword args: x, y. From version 0.12, the only valid positional argument will be `data`, and passing other arguments without an explicit keyword will result in an error or misinterpretation.\n",
      "  warnings.warn(\n"
     ]
    },
    {
     "data": {
      "image/png": "[encoded data removed]",
      "text/plain": [
       "<Figure size 1440x504 with 1 Axes>"
      ]
     },
     "metadata": {
      "needs_background": "light"
     },
     "output_type": "display_data"
    }
   ],
   "source": [
    "plt.figure(figsize=(20,7))\n",
    "ax = sns.barplot(suicide_per_year.index, suicide_per_year.values, palette=['lightblue'])\n",
    "ax.set_title('Suicide Case Per Year')\n",
    "ax.set_xlabel('Year')\n",
    "ax.set_ylabel('Total Case')\n",
    "plt.show()"
   ]
  },
  {
   "cell_type": "code",
   "execution_count": 52,
   "id": "80742c0e",
   "metadata": {},
   "outputs": [
    {
     "data": {
      "text/html": [
       "<style type=\"text/css\">\n",
       "#T_f7ad2_row0_col0 {\n",
       "  background-color: #023858;\n",
       "  color: #f1f1f1;\n",
       "}\n",
       "#T_f7ad2_row1_col0 {\n",
       "  background-color: #1379b5;\n",
       "  color: #f1f1f1;\n",
       "}\n",
       "#T_f7ad2_row2_col0 {\n",
       "  background-color: #1b7eb7;\n",
       "  color: #f1f1f1;\n",
       "}\n",
       "#T_f7ad2_row3_col0 {\n",
       "  background-color: #fff7fb;\n",
       "  color: #000000;\n",
       "}\n",
       "</style>\n",
       "<table id=\"T_f7ad2_\">\n",
       "  <thead>\n",
       "    <tr>\n",
       "      <th class=\"blank level0\" >&nbsp;</th>\n",
       "      <th class=\"col_heading level0 col0\" >suicides_no</th>\n",
       "    </tr>\n",
       "    <tr>\n",
       "      <th class=\"index_name level0\" >Year Range</th>\n",
       "      <th class=\"blank col0\" >&nbsp;</th>\n",
       "    </tr>\n",
       "  </thead>\n",
       "  <tbody>\n",
       "    <tr>\n",
       "      <th id=\"T_f7ad2_level0_row0\" class=\"row_heading level0 row0\" >1996 - 2005</th>\n",
       "      <td id=\"T_f7ad2_row0_col0\" class=\"data row0 col0\" >2514462.000000</td>\n",
       "    </tr>\n",
       "    <tr>\n",
       "      <th id=\"T_f7ad2_level0_row1\" class=\"row_heading level0 row1\" >1986 - 1995</th>\n",
       "      <td id=\"T_f7ad2_row1_col0\" class=\"data row1 col0\" >2149325.000000</td>\n",
       "    </tr>\n",
       "    <tr>\n",
       "      <th id=\"T_f7ad2_level0_row2\" class=\"row_heading level0 row2\" >2006 - 2016</th>\n",
       "      <td id=\"T_f7ad2_row2_col0\" class=\"data row2 col0\" >2121808.000000</td>\n",
       "    </tr>\n",
       "    <tr>\n",
       "      <th id=\"T_f7ad2_level0_row3\" class=\"row_heading level0 row3\" >1975 - 1985</th>\n",
       "      <td id=\"T_f7ad2_row3_col0\" class=\"data row3 col0\" >1240860.000000</td>\n",
       "    </tr>\n",
       "  </tbody>\n",
       "</table>\n"
      ],
      "text/plain": [
       "<pandas.io.formats.style.Styler at 0x7f657879ea60>"
      ]
     },
     "execution_count": 52,
     "metadata": {},
     "output_type": "execute_result"
    }
   ],
   "source": [
    "go[['suicides_no','Year Range']].groupby(['Year Range']).agg('sum').sort_values(by = 'suicides_no',\n",
    "        ascending = False).head(10).style.background_gradient(cmap = 'PuBu')"
   ]
  },
  {
   "cell_type": "markdown",
   "id": "3a045503",
   "metadata": {},
   "source": [
    "From 1996 to 2005, two million five hundred fourteen thousand four hundred sixty-two people died in the 9 years between them."
   ]
  },
  {
   "cell_type": "markdown",
   "id": "c9b7d529",
   "metadata": {},
   "source": [
    "# Top Five Countries"
   ]
  },
  {
   "cell_type": "code",
   "execution_count": 51,
   "id": "e9ff464f",
   "metadata": {},
   "outputs": [
    {
     "data": {
      "text/html": [
       "<style type=\"text/css\">\n",
       "#T_9eb81_row0_col0 {\n",
       "  background-color: #023858;\n",
       "  color: #f1f1f1;\n",
       "}\n",
       "#T_9eb81_row1_col0 {\n",
       "  background-color: #0a73b2;\n",
       "  color: #f1f1f1;\n",
       "}\n",
       "#T_9eb81_row2_col0 {\n",
       "  background-color: #71a8ce;\n",
       "  color: #f1f1f1;\n",
       "}\n",
       "#T_9eb81_row3_col0 {\n",
       "  background-color: #fbf4f9;\n",
       "  color: #000000;\n",
       "}\n",
       "#T_9eb81_row4_col0 {\n",
       "  background-color: #fff7fb;\n",
       "  color: #000000;\n",
       "}\n",
       "</style>\n",
       "<table id=\"T_9eb81_\">\n",
       "  <thead>\n",
       "    <tr>\n",
       "      <th class=\"blank level0\" >&nbsp;</th>\n",
       "      <th class=\"col_heading level0 col0\" >suicides_no</th>\n",
       "    </tr>\n",
       "    <tr>\n",
       "      <th class=\"index_name level0\" >country</th>\n",
       "      <th class=\"blank col0\" >&nbsp;</th>\n",
       "    </tr>\n",
       "  </thead>\n",
       "  <tbody>\n",
       "    <tr>\n",
       "      <th id=\"T_9eb81_level0_row0\" class=\"row_heading level0 row0\" >Russian Federation</th>\n",
       "      <td id=\"T_9eb81_row0_col0\" class=\"data row0 col0\" >1500992.000000</td>\n",
       "    </tr>\n",
       "    <tr>\n",
       "      <th id=\"T_9eb81_level0_row1\" class=\"row_heading level0 row1\" >United States of America</th>\n",
       "      <td id=\"T_9eb81_row1_col0\" class=\"data row1 col0\" >1201401.000000</td>\n",
       "    </tr>\n",
       "    <tr>\n",
       "      <th id=\"T_9eb81_level0_row2\" class=\"row_heading level0 row2\" >Japan</th>\n",
       "      <td id=\"T_9eb81_row2_col0\" class=\"data row2 col0\" >937614.000000</td>\n",
       "    </tr>\n",
       "    <tr>\n",
       "      <th id=\"T_9eb81_level0_row3\" class=\"row_heading level0 row3\" >France</th>\n",
       "      <td id=\"T_9eb81_row3_col0\" class=\"data row3 col0\" >395500.000000</td>\n",
       "    </tr>\n",
       "    <tr>\n",
       "      <th id=\"T_9eb81_level0_row4\" class=\"row_heading level0 row4\" >Ukraine</th>\n",
       "      <td id=\"T_9eb81_row4_col0\" class=\"data row4 col0\" >365170.000000</td>\n",
       "    </tr>\n",
       "  </tbody>\n",
       "</table>\n"
      ],
      "text/plain": [
       "<pandas.io.formats.style.Styler at 0x7f65787224c0>"
      ]
     },
     "execution_count": 51,
     "metadata": {},
     "output_type": "execute_result"
    }
   ],
   "source": [
    "go[['country' , 'suicides_no']].groupby(['country']).agg('sum').sort_values('suicides_no' \n",
    "            , ascending = False).head(5).style.background_gradient('PuBu')"
   ]
  },
  {
   "cell_type": "markdown",
   "id": "9d807e55",
   "metadata": {},
   "source": [
    "these are top five Countries which most  suicide cases has been recored"
   ]
  },
  {
   "cell_type": "markdown",
   "id": "2b5d308e",
   "metadata": {},
   "source": [
    "## Top 10 Countries with Suicide ceses age wise"
   ]
  },
  {
   "cell_type": "code",
   "execution_count": 58,
   "id": "0273007e",
   "metadata": {},
   "outputs": [
    {
     "data": {
      "text/plain": [
       "<AxesSubplot:ylabel='country,age'>"
      ]
     },
     "execution_count": 58,
     "metadata": {},
     "output_type": "execute_result"
    },
    {
     "data": {
      "image/png": "[encoded data removed]",
      "text/plain": [
       "<Figure size 432x288 with 1 Axes>"
      ]
     },
     "metadata": {
      "needs_background": "light"
     },
     "output_type": "display_data"
    }
   ],
   "source": [
    " go.groupby(['country','age']).suicides_no.sum().nlargest(10).plot(kind = 'barh')"
   ]
  },
  {
   "cell_type": "markdown",
   "id": "daccff11",
   "metadata": {},
   "source": [
    "More suicide cases have been reported among people aged 35 to 54."
   ]
  },
  {
   "cell_type": "markdown",
   "id": "2bd0df80",
   "metadata": {},
   "source": [
    "# Gender wise suicides"
   ]
  },
  {
   "cell_type": "code",
   "execution_count": 29,
   "id": "02031a9a",
   "metadata": {},
   "outputs": [
    {
     "name": "stderr",
     "output_type": "stream",
     "text": [
      "/home/rkmveri/.local/lib/python3.8/site-packages/seaborn/_decorators.py:36: FutureWarning: Pass the following variables as keyword args: x, y. From version 0.12, the only valid positional argument will be `data`, and passing other arguments without an explicit keyword will result in an error or misinterpretation.\n",
      "  warnings.warn(\n"
     ]
    },
    {
     "data": {
      "image/png": "[encoded data removed]",
      "text/plain": [
       "<Figure size 864x576 with 1 Axes>"
      ]
     },
     "metadata": {
      "needs_background": "light"
     },
     "output_type": "display_data"
    }
   ],
   "source": [
    "plt.figure(figsize=(12, 8))\n",
    "sns.barplot(go['sex'],go['suicides_no'])\n",
    "plt.xlabel('Sex: Male or Female')\n",
    "plt.ylabel('No. of Suicides')\n",
    "plt.show()\n"
   ]
  },
  {
   "cell_type": "markdown",
   "id": "28530e5d",
   "metadata": {},
   "source": [
    "* More number of males have committed suicides as compared to females"
   ]
  },
  {
   "cell_type": "markdown",
   "id": "afff9a08",
   "metadata": {},
   "source": [
    "# Age wise suicides "
   ]
  },
  {
   "cell_type": "code",
   "execution_count": 59,
   "id": "d17fb6fa",
   "metadata": {},
   "outputs": [
    {
     "data": {
      "image/png": "[encoded data removed]",
      "text/plain": [
       "<Figure size 1728x288 with 6 Axes>"
      ]
     },
     "metadata": {
      "needs_background": "light"
     },
     "output_type": "display_data"
    }
   ],
   "source": [
    "sns.catplot(x = 'sex' , y = 'suicides_no',data = go,col = 'age',kind = 'bar' , estimator = np.median , height= 4)\n",
    "plt.show()"
   ]
  },
  {
   "cell_type": "markdown",
   "id": "d8e25f43",
   "metadata": {},
   "source": [
    "Age-wise, gender suciedes are more males than females."
   ]
  },
  {
   "cell_type": "markdown",
   "id": "a544f13f",
   "metadata": {},
   "source": [
    "# lets check the countries with more than 5000 suicides in age groupb 15-24 years"
   ]
  },
  {
   "cell_type": "code",
   "execution_count": 38,
   "id": "39bc38cd",
   "metadata": {},
   "outputs": [
    {
     "data": {
      "text/html": [
       "<style type=\"text/css\">\n",
       "#T_f463a_row0_col1 {\n",
       "  background-color: #023858;\n",
       "  color: #f1f1f1;\n",
       "}\n",
       "#T_f463a_row1_col1 {\n",
       "  background-color: #046096;\n",
       "  color: #f1f1f1;\n",
       "}\n",
       "#T_f463a_row2_col1 {\n",
       "  background-color: #0569a4;\n",
       "  color: #f1f1f1;\n",
       "}\n",
       "#T_f463a_row3_col1 {\n",
       "  background-color: #60a1ca;\n",
       "  color: #f1f1f1;\n",
       "}\n",
       "#T_f463a_row4_col1 {\n",
       "  background-color: #63a2cb;\n",
       "  color: #f1f1f1;\n",
       "}\n",
       "#T_f463a_row5_col1 {\n",
       "  background-color: #9ab8d8;\n",
       "  color: #000000;\n",
       "}\n",
       "#T_f463a_row6_col1, #T_f463a_row7_col1 {\n",
       "  background-color: #b1c2de;\n",
       "  color: #000000;\n",
       "}\n",
       "#T_f463a_row8_col1 {\n",
       "  background-color: #b8c6e0;\n",
       "  color: #000000;\n",
       "}\n",
       "#T_f463a_row9_col1 {\n",
       "  background-color: #bbc7e0;\n",
       "  color: #000000;\n",
       "}\n",
       "#T_f463a_row10_col1 {\n",
       "  background-color: #bcc7e1;\n",
       "  color: #000000;\n",
       "}\n",
       "#T_f463a_row11_col1 {\n",
       "  background-color: #f3edf5;\n",
       "  color: #000000;\n",
       "}\n",
       "#T_f463a_row12_col1 {\n",
       "  background-color: #f8f1f8;\n",
       "  color: #000000;\n",
       "}\n",
       "#T_f463a_row13_col1 {\n",
       "  background-color: #fff7fb;\n",
       "  color: #000000;\n",
       "}\n",
       "</style>\n",
       "<table id=\"T_f463a_\">\n",
       "  <thead>\n",
       "    <tr>\n",
       "      <th class=\"blank level0\" >&nbsp;</th>\n",
       "      <th class=\"col_heading level0 col0\" >country</th>\n",
       "      <th class=\"col_heading level0 col1\" >suicides_no</th>\n",
       "      <th class=\"col_heading level0 col2\" >sex</th>\n",
       "      <th class=\"col_heading level0 col3\" >Year Range</th>\n",
       "    </tr>\n",
       "  </thead>\n",
       "  <tbody>\n",
       "    <tr>\n",
       "      <th id=\"T_f463a_level0_row0\" class=\"row_heading level0 row0\" >33210</th>\n",
       "      <td id=\"T_f463a_row0_col0\" class=\"data row0 col0\" >Russian Federation</td>\n",
       "      <td id=\"T_f463a_row0_col1\" class=\"data row0 col1\" >6945.000000</td>\n",
       "      <td id=\"T_f463a_row0_col2\" class=\"data row0 col2\" >male</td>\n",
       "      <td id=\"T_f463a_row0_col3\" class=\"data row0 col3\" >1996 - 2005</td>\n",
       "    </tr>\n",
       "    <tr>\n",
       "      <th id=\"T_f463a_level0_row1\" class=\"row_heading level0 row1\" >33222</th>\n",
       "      <td id=\"T_f463a_row1_col0\" class=\"data row1 col0\" >Russian Federation</td>\n",
       "      <td id=\"T_f463a_row1_col1\" class=\"data row1 col1\" >6667.000000</td>\n",
       "      <td id=\"T_f463a_row1_col2\" class=\"data row1 col2\" >male</td>\n",
       "      <td id=\"T_f463a_row1_col3\" class=\"data row1 col3\" >1996 - 2005</td>\n",
       "    </tr>\n",
       "    <tr>\n",
       "      <th id=\"T_f463a_level0_row2\" class=\"row_heading level0 row2\" >33198</th>\n",
       "      <td id=\"T_f463a_row2_col0\" class=\"data row2 col0\" >Russian Federation</td>\n",
       "      <td id=\"T_f463a_row2_col1\" class=\"data row2 col1\" >6578.000000</td>\n",
       "      <td id=\"T_f463a_row2_col2\" class=\"data row2 col2\" >male</td>\n",
       "      <td id=\"T_f463a_row2_col3\" class=\"data row2 col3\" >1996 - 2005</td>\n",
       "    </tr>\n",
       "    <tr>\n",
       "      <th id=\"T_f463a_level0_row3\" class=\"row_heading level0 row3\" >33234</th>\n",
       "      <td id=\"T_f463a_row3_col0\" class=\"data row3 col0\" >Russian Federation</td>\n",
       "      <td id=\"T_f463a_row3_col1\" class=\"data row3 col1\" >6134.000000</td>\n",
       "      <td id=\"T_f463a_row3_col2\" class=\"data row3 col2\" >male</td>\n",
       "      <td id=\"T_f463a_row3_col3\" class=\"data row3 col3\" >1996 - 2005</td>\n",
       "    </tr>\n",
       "    <tr>\n",
       "      <th id=\"T_f463a_level0_row4\" class=\"row_heading level0 row4\" >33186</th>\n",
       "      <td id=\"T_f463a_row4_col0\" class=\"data row4 col0\" >Russian Federation</td>\n",
       "      <td id=\"T_f463a_row4_col1\" class=\"data row4 col1\" >6120.000000</td>\n",
       "      <td id=\"T_f463a_row4_col2\" class=\"data row4 col2\" >male</td>\n",
       "      <td id=\"T_f463a_row4_col3\" class=\"data row4 col3\" >1996 - 2005</td>\n",
       "    </tr>\n",
       "    <tr>\n",
       "      <th id=\"T_f463a_level0_row5\" class=\"row_heading level0 row5\" >33246</th>\n",
       "      <td id=\"T_f463a_row5_col0\" class=\"data row5 col0\" >Russian Federation</td>\n",
       "      <td id=\"T_f463a_row5_col1\" class=\"data row5 col1\" >5891.000000</td>\n",
       "      <td id=\"T_f463a_row5_col2\" class=\"data row5 col2\" >male</td>\n",
       "      <td id=\"T_f463a_row5_col3\" class=\"data row5 col3\" >1996 - 2005</td>\n",
       "    </tr>\n",
       "    <tr>\n",
       "      <th id=\"T_f463a_level0_row6\" class=\"row_heading level0 row6\" >33150</th>\n",
       "      <td id=\"T_f463a_row6_col0\" class=\"data row6 col0\" >Russian Federation</td>\n",
       "      <td id=\"T_f463a_row6_col1\" class=\"data row6 col1\" >5784.000000</td>\n",
       "      <td id=\"T_f463a_row6_col2\" class=\"data row6 col2\" >male</td>\n",
       "      <td id=\"T_f463a_row6_col3\" class=\"data row6 col3\" >1986 - 1995</td>\n",
       "    </tr>\n",
       "    <tr>\n",
       "      <th id=\"T_f463a_level0_row7\" class=\"row_heading level0 row7\" >33162</th>\n",
       "      <td id=\"T_f463a_row7_col0\" class=\"data row7 col0\" >Russian Federation</td>\n",
       "      <td id=\"T_f463a_row7_col1\" class=\"data row7 col1\" >5780.000000</td>\n",
       "      <td id=\"T_f463a_row7_col2\" class=\"data row7 col2\" >male</td>\n",
       "      <td id=\"T_f463a_row7_col3\" class=\"data row7 col3\" >1996 - 2005</td>\n",
       "    </tr>\n",
       "    <tr>\n",
       "      <th id=\"T_f463a_level0_row8\" class=\"row_heading level0 row8\" >33258</th>\n",
       "      <td id=\"T_f463a_row8_col0\" class=\"data row8 col0\" >Russian Federation</td>\n",
       "      <td id=\"T_f463a_row8_col1\" class=\"data row8 col1\" >5750.000000</td>\n",
       "      <td id=\"T_f463a_row8_col2\" class=\"data row8 col2\" >male</td>\n",
       "      <td id=\"T_f463a_row8_col3\" class=\"data row8 col3\" >1996 - 2005</td>\n",
       "    </tr>\n",
       "    <tr>\n",
       "      <th id=\"T_f463a_level0_row9\" class=\"row_heading level0 row9\" >33138</th>\n",
       "      <td id=\"T_f463a_row9_col0\" class=\"data row9 col0\" >Russian Federation</td>\n",
       "      <td id=\"T_f463a_row9_col1\" class=\"data row9 col1\" >5733.000000</td>\n",
       "      <td id=\"T_f463a_row9_col2\" class=\"data row9 col2\" >male</td>\n",
       "      <td id=\"T_f463a_row9_col3\" class=\"data row9 col3\" >1986 - 1995</td>\n",
       "    </tr>\n",
       "    <tr>\n",
       "      <th id=\"T_f463a_level0_row10\" class=\"row_heading level0 row10\" >33174</th>\n",
       "      <td id=\"T_f463a_row10_col0\" class=\"data row10 col0\" >Russian Federation</td>\n",
       "      <td id=\"T_f463a_row10_col1\" class=\"data row10 col1\" >5729.000000</td>\n",
       "      <td id=\"T_f463a_row10_col2\" class=\"data row10 col2\" >male</td>\n",
       "      <td id=\"T_f463a_row10_col3\" class=\"data row10 col3\" >1996 - 2005</td>\n",
       "    </tr>\n",
       "    <tr>\n",
       "      <th id=\"T_f463a_level0_row11\" class=\"row_heading level0 row11\" >33270</th>\n",
       "      <td id=\"T_f463a_row11_col0\" class=\"data row11 col0\" >Russian Federation</td>\n",
       "      <td id=\"T_f463a_row11_col1\" class=\"data row11 col1\" >5319.000000</td>\n",
       "      <td id=\"T_f463a_row11_col2\" class=\"data row11 col2\" >male</td>\n",
       "      <td id=\"T_f463a_row11_col3\" class=\"data row11 col3\" >1996 - 2005</td>\n",
       "    </tr>\n",
       "    <tr>\n",
       "      <th id=\"T_f463a_level0_row12\" class=\"row_heading level0 row12\" >33282</th>\n",
       "      <td id=\"T_f463a_row12_col0\" class=\"data row12 col0\" >Russian Federation</td>\n",
       "      <td id=\"T_f463a_row12_col1\" class=\"data row12 col1\" >5257.000000</td>\n",
       "      <td id=\"T_f463a_row12_col2\" class=\"data row12 col2\" >male</td>\n",
       "      <td id=\"T_f463a_row12_col3\" class=\"data row12 col3\" >2006 - 2016</td>\n",
       "    </tr>\n",
       "    <tr>\n",
       "      <th id=\"T_f463a_level0_row13\" class=\"row_heading level0 row13\" >33126</th>\n",
       "      <td id=\"T_f463a_row13_col0\" class=\"data row13 col0\" >Russian Federation</td>\n",
       "      <td id=\"T_f463a_row13_col1\" class=\"data row13 col1\" >5177.000000</td>\n",
       "      <td id=\"T_f463a_row13_col2\" class=\"data row13 col2\" >male</td>\n",
       "      <td id=\"T_f463a_row13_col3\" class=\"data row13 col3\" >1986 - 1995</td>\n",
       "    </tr>\n",
       "  </tbody>\n",
       "</table>\n"
      ],
      "text/plain": [
       "<pandas.io.formats.style.Styler at 0x7f65b87e4760>"
      ]
     },
     "execution_count": 38,
     "metadata": {},
     "output_type": "execute_result"
    }
   ],
   "source": [
    "check = go[(go['age'] == '15-24 years') & (go['suicides_no'] >=5000)][['country',  'suicides_no' , 'sex' , 'Year Range']].sort_values('suicides_no' , ascending = False)\n",
    "check.style.background_gradient(cmap = 'PuBu')"
   ]
  },
  {
   "cell_type": "markdown",
   "id": "5ab46d2d",
   "metadata": {},
   "source": [
    "# Create data for each year range"
   ]
  },
  {
   "cell_type": "code",
   "execution_count": 17,
   "id": "d4094371",
   "metadata": {},
   "outputs": [
    {
     "data": {
      "text/plain": [
       "array([1985, 1986, 1987, 1988, 1989, 1990, 1991, 1992, 1993, 1994, 1995,\n",
       "       1996, 1997, 1998, 1999, 2000, 2001, 2002, 2003, 2004, 2005, 2006,\n",
       "       2007, 2008, 2009, 2010, 2011, 2012, 2013, 2014, 2015, 1983, 1984,\n",
       "       2016, 1979, 1980, 1981, 1982])"
      ]
     },
     "execution_count": 17,
     "metadata": {},
     "output_type": "execute_result"
    }
   ],
   "source": [
    "go['year'].unique()"
   ]
  },
  {
   "cell_type": "code",
   "execution_count": 18,
   "id": "cee69e21",
   "metadata": {},
   "outputs": [
    {
     "data": {
      "text/html": [
       "<div>\n",
       "<style scoped>\n",
       "    .dataframe tbody tr th:only-of-type {\n",
       "        vertical-align: middle;\n",
       "    }\n",
       "\n",
       "    .dataframe tbody tr th {\n",
       "        vertical-align: top;\n",
       "    }\n",
       "\n",
       "    .dataframe thead th {\n",
       "        text-align: right;\n",
       "    }\n",
       "</style>\n",
       "<table border=\"1\" class=\"dataframe\">\n",
       "  <thead>\n",
       "    <tr style=\"text-align: right;\">\n",
       "      <th></th>\n",
       "      <th>country</th>\n",
       "      <th>year</th>\n",
       "      <th>sex</th>\n",
       "      <th>age</th>\n",
       "      <th>suicides_no</th>\n",
       "      <th>population</th>\n",
       "      <th>Year Range</th>\n",
       "    </tr>\n",
       "  </thead>\n",
       "  <tbody>\n",
       "    <tr>\n",
       "      <th>0</th>\n",
       "      <td>Albania</td>\n",
       "      <td>1985</td>\n",
       "      <td>female</td>\n",
       "      <td>15-24 years</td>\n",
       "      <td>0.0</td>\n",
       "      <td>277900.0</td>\n",
       "      <td>1975 - 1985</td>\n",
       "    </tr>\n",
       "    <tr>\n",
       "      <th>1</th>\n",
       "      <td>Albania</td>\n",
       "      <td>1985</td>\n",
       "      <td>female</td>\n",
       "      <td>25-34 years</td>\n",
       "      <td>0.0</td>\n",
       "      <td>246800.0</td>\n",
       "      <td>1975 - 1985</td>\n",
       "    </tr>\n",
       "    <tr>\n",
       "      <th>2</th>\n",
       "      <td>Albania</td>\n",
       "      <td>1985</td>\n",
       "      <td>female</td>\n",
       "      <td>35-54 years</td>\n",
       "      <td>0.0</td>\n",
       "      <td>267500.0</td>\n",
       "      <td>1975 - 1985</td>\n",
       "    </tr>\n",
       "    <tr>\n",
       "      <th>3</th>\n",
       "      <td>Albania</td>\n",
       "      <td>1985</td>\n",
       "      <td>female</td>\n",
       "      <td>5-14 years</td>\n",
       "      <td>0.0</td>\n",
       "      <td>298300.0</td>\n",
       "      <td>1975 - 1985</td>\n",
       "    </tr>\n",
       "    <tr>\n",
       "      <th>4</th>\n",
       "      <td>Albania</td>\n",
       "      <td>1985</td>\n",
       "      <td>female</td>\n",
       "      <td>55-74 years</td>\n",
       "      <td>0.0</td>\n",
       "      <td>138700.0</td>\n",
       "      <td>1975 - 1985</td>\n",
       "    </tr>\n",
       "  </tbody>\n",
       "</table>\n",
       "</div>"
      ],
      "text/plain": [
       "   country  year     sex          age  suicides_no  population   Year Range\n",
       "0  Albania  1985  female  15-24 years          0.0    277900.0  1975 - 1985\n",
       "1  Albania  1985  female  25-34 years          0.0    246800.0  1975 - 1985\n",
       "2  Albania  1985  female  35-54 years          0.0    267500.0  1975 - 1985\n",
       "3  Albania  1985  female   5-14 years          0.0    298300.0  1975 - 1985\n",
       "4  Albania  1985  female  55-74 years          0.0    138700.0  1975 - 1985"
      ]
     },
     "execution_count": 18,
     "metadata": {},
     "output_type": "execute_result"
    }
   ],
   "source": [
    "bins = [1975, 1986, 1996, 2006, 2017]\n",
    "labels = ['1975 - 1985','1986 - 1995','1996 - 2005','2006 - 2016']\n",
    "go['Year Range'] = pd.cut(go.year, bins, labels = labels, include_lowest = True)\n",
    "go.head()"
   ]
  },
  {
   "cell_type": "code",
   "execution_count": 19,
   "id": "f108aa63",
   "metadata": {},
   "outputs": [
    {
     "data": {
      "text/plain": [
       "['1975 - 1985', '1986 - 1995', '1996 - 2005', '2006 - 2016']\n",
       "Categories (4, object): ['1975 - 1985' < '1986 - 1995' < '1996 - 2005' < '2006 - 2016']"
      ]
     },
     "execution_count": 19,
     "metadata": {},
     "output_type": "execute_result"
    }
   ],
   "source": [
    "go['Year Range'].unique()"
   ]
  },
  {
   "cell_type": "code",
   "execution_count": 20,
   "id": "47999700",
   "metadata": {},
   "outputs": [],
   "source": [
    "age_wise_year_1 = go[go['Year Range']== '1975 - 1985'].groupby('age')['suicides_no'].sum()\n",
    "age_wise_year_2 = go[go['Year Range']== '1986 - 1995'].groupby('age')['suicides_no'].sum()\n",
    "age_wise_year_3 = go[go['Year Range']== '1996 - 2005'].groupby('age')['suicides_no'].sum()\n",
    "age_wise_year_4 = go[go['Year Range']== '2006 - 2016'].groupby('age')['suicides_no'].sum()"
   ]
  },
  {
   "cell_type": "code",
   "execution_count": 21,
   "id": "c2e000e8",
   "metadata": {},
   "outputs": [
    {
     "data": {
      "text/plain": [
       "age\n",
       "15-24 years    245390.0\n",
       "25-34 years    340507.0\n",
       "35-54 years    766811.0\n",
       "5-14 years      16925.0\n",
       "55-74 years    532427.0\n",
       "75+ years      219748.0\n",
       "Name: suicides_no, dtype: float64"
      ]
     },
     "execution_count": 21,
     "metadata": {},
     "output_type": "execute_result"
    }
   ],
   "source": [
    "age_wise_year_4 "
   ]
  },
  {
   "cell_type": "markdown",
   "id": "a6f7a437",
   "metadata": {},
   "source": [
    "# #Plot the data for 1975-1985"
   ]
  },
  {
   "cell_type": "code",
   "execution_count": 22,
   "id": "110bd40c",
   "metadata": {},
   "outputs": [
    {
     "data": {
      "image/png": "[encoded data removed]",
      "text/plain": [
       "<Figure size 720x432 with 1 Axes>"
      ]
     },
     "metadata": {},
     "output_type": "display_data"
    }
   ],
   "source": [
    "pie, ax = plt.subplots(figsize=[10,6])\n",
    "labels = age_wise_year_1.keys()\n",
    "plt.pie(x=age_wise_year_1, autopct='%.1f%%', explode=[0.05]*6,labels=labels, pctdistance=0.5)\n",
    "plt.title('Age Distribution of suicide case in 1975-1985')\n",
    "plt.show()"
   ]
  },
  {
   "cell_type": "markdown",
   "id": "19746d25",
   "metadata": {},
   "source": [
    "# Plot the data for 1986-1995"
   ]
  },
  {
   "cell_type": "code",
   "execution_count": 23,
   "id": "5847ef29",
   "metadata": {},
   "outputs": [
    {
     "data": {
      "image/png": "[encoded data removed]",
      "text/plain": [
       "<Figure size 720x432 with 1 Axes>"
      ]
     },
     "metadata": {},
     "output_type": "display_data"
    }
   ],
   "source": [
    "pie, ax = plt.subplots(figsize=[10,6])\n",
    "labels = age_wise_year_2.keys()\n",
    "plt.pie(x=age_wise_year_2, autopct='%.1f%%', explode=[0.05]*6,labels=labels, pctdistance=0.5)\n",
    "plt.title('Age Distribution of suicide case in 1986-1995')\n",
    "plt.show()"
   ]
  },
  {
   "cell_type": "markdown",
   "id": "c50fafe5",
   "metadata": {},
   "source": [
    "# Plot the data for 1996-2005"
   ]
  },
  {
   "cell_type": "code",
   "execution_count": 24,
   "id": "c03a7090",
   "metadata": {},
   "outputs": [
    {
     "data": {
      "image/png": "[encoded data removed]",
      "text/plain": [
       "<Figure size 720x432 with 1 Axes>"
      ]
     },
     "metadata": {},
     "output_type": "display_data"
    }
   ],
   "source": [
    "pie, ax = plt.subplots(figsize=[10,6])\n",
    "labels = age_wise_year_3.keys()\n",
    "plt.pie(x=age_wise_year_3, autopct='%.1f%%', explode=[0.05]*6,labels=labels, pctdistance=0.5)\n",
    "plt.title('Age Distribution of suicide case in 1996-2005')\n",
    "plt.show()"
   ]
  },
  {
   "cell_type": "markdown",
   "id": "7da57a92",
   "metadata": {},
   "source": [
    "# Plot the data for 2006-2016"
   ]
  },
  {
   "cell_type": "code",
   "execution_count": 25,
   "id": "a50bc3f2",
   "metadata": {},
   "outputs": [
    {
     "data": {
      "image/png": "[encoded data removed]",
      "text/plain": [
       "<Figure size 720x432 with 1 Axes>"
      ]
     },
     "metadata": {},
     "output_type": "display_data"
    }
   ],
   "source": [
    "pie, ax = plt.subplots(figsize=[10,6])\n",
    "labels = age_wise_year_1.keys()\n",
    "plt.pie(x=age_wise_year_1, autopct='%.1f%%', explode=[0.05]*6,labels=labels, pctdistance=0.5)\n",
    "plt.title('Age Distribution of suicide case in 2006-2016')\n",
    "plt.show()"
   ]
  },
  {
   "cell_type": "markdown",
   "id": "23dbbef6",
   "metadata": {},
   "source": [
    "# Conclusion"
   ]
  },
  {
   "cell_type": "markdown",
   "id": "1f7a9358",
   "metadata": {},
   "source": [
    "\n",
    "    People in age groups 35-54 have the highest number of suicides\n",
    "    People in age groupps 5-14 have the lowest number of suicides\n",
    "    There was a dip in number of suicides in the years 1987-1989\n",
    "    Japan has the thired highest number of suicides\n",
    "    Number of male suicides is higher than female in most age wise.\n"
   ]
  },
  {
   "cell_type": "code",
   "execution_count": null,
   "id": "bc3b89bd",
   "metadata": {},
   "outputs": [],
   "source": []
  }
 ],
 "metadata": {
  "kernelspec": {
   "display_name": "Python 3 (ipykernel)",
   "language": "python",
   "name": "python3"
  },
  "language_info": {
   "codemirror_mode": {
    "name": "ipython",
    "version": 3
   },
   "file_extension": ".py",
   "mimetype": "text/x-python",
   "name": "python",
   "nbconvert_exporter": "python",
   "pygments_lexer": "ipython3",
   "version": "3.8.10"
  }
 },
 "nbformat": 4,
 "nbformat_minor": 5
}
